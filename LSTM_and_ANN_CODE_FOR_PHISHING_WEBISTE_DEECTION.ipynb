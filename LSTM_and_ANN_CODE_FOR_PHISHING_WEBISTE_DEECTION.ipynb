{
  "cells": [
    {
      "cell_type": "code",
      "execution_count": null,
      "metadata": {
        "colab": {
          "base_uri": "https://localhost:8080/"
        },
        "id": "TQQffc1Ndvnq",
        "outputId": "c8333d6c-d4ab-4dcc-c6d3-c7835c84e5cf"
      },
      "outputs": [
        {
          "output_type": "stream",
          "name": "stdout",
          "text": [
            "Drive already mounted at /content/gdrive; to attempt to forcibly remount, call drive.mount(\"/content/gdrive\", force_remount=True).\n"
          ]
        }
      ],
      "source": [
        "# Mount Google Drive\n",
        "from google.colab import drive\n",
        "drive.mount('/content/gdrive')\n",
        "\n",
        "# Change directory to the desired location in Google Drive\n",
        "import os\n",
        "os.chdir('/content/gdrive/MyDrive')\n"
      ]
    },
    {
      "cell_type": "code",
      "execution_count": null,
      "metadata": {
        "id": "ETk_EGufetkF"
      },
      "outputs": [],
      "source": [
        "import numpy as np\n",
        "import pandas as pd\n",
        "import keras\n",
        "from sklearn.model_selection import train_test_split\n",
        "import cv2\n",
        "from sklearn.metrics import accuracy_score, classification_report\n",
        "import tensorflow as tf\n",
        "\n",
        "import os\n",
        "import glob\n",
        "from sklearn.preprocessing import StandardScaler\n",
        "from sklearn.model_selection import train_test_split\n",
        "import tensorflow as tf\n",
        "from keras.applications import DenseNet121\n",
        "from tensorflow import keras\n",
        "from tensorflow.keras import layers\n",
        "from tensorflow.keras import models\n",
        "from keras.layers import Dense, Dropout, Flatten, Activation\n",
        "from keras.layers import Conv1D, MaxPooling1D,MaxPooling2D\n",
        "from keras.layers import Dropout\n",
        "import matplotlib.pyplot as plt\n",
        "data=pd.read_csv('/content/Phishing_Legitimate_full 3.csv')\n"
      ]
    },
    {
      "cell_type": "code",
      "execution_count": null,
      "metadata": {
        "id": "4leYmcvVYO0i"
      },
      "outputs": [],
      "source": [
        "y_train=data.iloc[:,0]\n",
        "x= data.loc[:,data.columns!='label']"
      ]
    },
    {
      "cell_type": "code",
      "execution_count": null,
      "metadata": {
        "id": "p7rNNkRGYaiU"
      },
      "outputs": [],
      "source": [
        "x_train=x/255"
      ]
    },
    {
      "cell_type": "code",
      "execution_count": null,
      "metadata": {
        "id": "Ac_J1c_NgHYq"
      },
      "outputs": [],
      "source": [
        "y_test=X/255"
      ]
    },
    {
      "cell_type": "code",
      "execution_count": null,
      "metadata": {
        "id": "zJRRN7R1jYe2"
      },
      "outputs": [],
      "source": [
        " #Define the input layer\n",
        "inputs= tf.keras.Input(shape=(784,))\n",
        "\n",
        "# Define the hidden layers\n",
        "hidden_layer1 = tf.keras.layers.Dense(256, activation='relu')(inputs)\n",
        "hidden_layer2 = tf.keras.layers.Dense(128, activation='relu')(hidden_layer1)\n",
        "\n",
        "\n",
        "# Define the output layer\n",
        "outputs = tf.keras.layers.Dense(10, activation='softmax')(hidden_layer1)\n",
        "\n",
        "# Create the model\n",
        "model = tf.keras.Model(inputs=inputs, outputs=outputs)\n",
        "\n",
        "# Compile the model\n",
        "model.compile(optimizer= tf.keras.optimizers.SGD(learning_rate=0.01),\n",
        "              loss='sparse_categorical_crossentropy',\n",
        "              metrics=['accuracy'])"
      ]
    },
    {
      "cell_type": "code",
      "execution_count": null,
      "metadata": {
        "colab": {
          "base_uri": "https://localhost:8080/"
        },
        "id": "mzM99KqbCTOB",
        "outputId": "0a2b03e0-24f2-495c-b97b-ad4e0345bec9"
      },
      "outputs": [
        {
          "output_type": "stream",
          "name": "stdout",
          "text": [
            "Model: \"model_1\"\n",
            "_________________________________________________________________\n",
            " Layer (type)                Output Shape              Param #   \n",
            "=================================================================\n",
            " input_2 (InputLayer)        [(None, 784)]             0         \n",
            "                                                                 \n",
            " dense_3 (Dense)             (None, 256)               200960    \n",
            "                                                                 \n",
            " dense_5 (Dense)             (None, 10)                2570      \n",
            "                                                                 \n",
            "=================================================================\n",
            "Total params: 203530 (795.04 KB)\n",
            "Trainable params: 203530 (795.04 KB)\n",
            "Non-trainable params: 0 (0.00 Byte)\n",
            "_________________________________________________________________\n"
          ]
        }
      ],
      "source": [
        "from keras import optimizers\n",
        "\n",
        "model.compile(optimizer='Adam',loss='sparse_categorical_crossentropy',\n",
        "              metrics=['accuracy'])\n",
        "model.summary()\n"
      ]
    },
    {
      "cell_type": "code",
      "execution_count": null,
      "metadata": {
        "id": "u5MbtMQjCaUd"
      },
      "outputs": [],
      "source": [
        " from keras.callbacks import EarlyStopping, ModelCheckpoint\n",
        "earlystop = EarlyStopping(monitor='val_accuracy', min_delta=0, patience=5)"
      ]
    },
    {
      "cell_type": "code",
      "execution_count": null,
      "metadata": {
        "colab": {
          "base_uri": "https://localhost:8080/"
        },
        "id": "6DER6ULNCPGr",
        "outputId": "8221aa08-110b-40dc-c9f3-375a36a69b32"
      },
      "outputs": [
        {
          "output_type": "stream",
          "name": "stdout",
          "text": [
            "Epoch 1/50\n",
            "1500/1500 - 5s - loss: 0.2562 - accuracy: 0.9258 - val_loss: 0.1313 - val_accuracy: 0.9627 - 5s/epoch - 3ms/step\n",
            "Epoch 2/50\n",
            "1500/1500 - 5s - loss: 0.1072 - accuracy: 0.9675 - val_loss: 0.0968 - val_accuracy: 0.9701 - 5s/epoch - 3ms/step\n",
            "Epoch 3/50\n",
            "1500/1500 - 4s - loss: 0.0709 - accuracy: 0.9789 - val_loss: 0.0942 - val_accuracy: 0.9711 - 4s/epoch - 3ms/step\n",
            "Epoch 4/50\n",
            "1500/1500 - 4s - loss: 0.0502 - accuracy: 0.9847 - val_loss: 0.0824 - val_accuracy: 0.9761 - 4s/epoch - 3ms/step\n",
            "Epoch 5/50\n",
            "1500/1500 - 6s - loss: 0.0358 - accuracy: 0.9887 - val_loss: 0.1009 - val_accuracy: 0.9716 - 6s/epoch - 4ms/step\n",
            "Epoch 6/50\n",
            "1500/1500 - 4s - loss: 0.0275 - accuracy: 0.9912 - val_loss: 0.0803 - val_accuracy: 0.9771 - 4s/epoch - 3ms/step\n",
            "Epoch 7/50\n",
            "1500/1500 - 4s - loss: 0.0214 - accuracy: 0.9934 - val_loss: 0.0866 - val_accuracy: 0.9755 - 4s/epoch - 3ms/step\n",
            "Epoch 8/50\n",
            "1500/1500 - 5s - loss: 0.0157 - accuracy: 0.9955 - val_loss: 0.0887 - val_accuracy: 0.9769 - 5s/epoch - 4ms/step\n",
            "Epoch 9/50\n",
            "1500/1500 - 4s - loss: 0.0128 - accuracy: 0.9961 - val_loss: 0.1046 - val_accuracy: 0.9734 - 4s/epoch - 3ms/step\n",
            "Epoch 10/50\n",
            "1500/1500 - 4s - loss: 0.0119 - accuracy: 0.9963 - val_loss: 0.0829 - val_accuracy: 0.9799 - 4s/epoch - 3ms/step\n",
            "Epoch 11/50\n",
            "1500/1500 - 6s - loss: 0.0102 - accuracy: 0.9967 - val_loss: 0.1131 - val_accuracy: 0.9753 - 6s/epoch - 4ms/step\n",
            "Epoch 12/50\n",
            "1500/1500 - 4s - loss: 0.0092 - accuracy: 0.9971 - val_loss: 0.0984 - val_accuracy: 0.9794 - 4s/epoch - 3ms/step\n",
            "Epoch 13/50\n",
            "1500/1500 - 4s - loss: 0.0088 - accuracy: 0.9971 - val_loss: 0.1020 - val_accuracy: 0.9783 - 4s/epoch - 3ms/step\n",
            "Epoch 14/50\n",
            "1500/1500 - 5s - loss: 0.0059 - accuracy: 0.9982 - val_loss: 0.1041 - val_accuracy: 0.9795 - 5s/epoch - 3ms/step\n",
            "Epoch 15/50\n",
            "1500/1500 - 5s - loss: 0.0057 - accuracy: 0.9983 - val_loss: 0.1136 - val_accuracy: 0.9776 - 5s/epoch - 3ms/step\n"
          ]
        }
      ],
      "source": [
        "history = model.fit(x_train,\n",
        "          y_train,\n",
        "          epochs=50,verbose=2,\n",
        "          validation_split=0.2,callbacks=[earlystop],\n",
        "          )\n"
      ]
    },
    {
      "cell_type": "code",
      "execution_count": null,
      "metadata": {
        "colab": {
          "base_uri": "https://localhost:8080/"
        },
        "id": "yVbg7pFk0-kC",
        "outputId": "f61c3503-5bc1-4484-ce3f-3942b1c22555"
      },
      "outputs": [
        {
          "output_type": "stream",
          "name": "stdout",
          "text": [
            "Model saved.\n"
          ]
        }
      ],
      "source": [
        "#save the trained model\n",
        "model.save('/content/gdrive/MyDrive')\n",
        "print('Model saved.')"
      ]
    },
    {
      "cell_type": "code",
      "source": [
        " #Load the trained model\n",
        "model = keras.models.load_model('/content/gdrive/MyDrive')\n",
        "\n",
        "# Make predictions on the test data\n",
        "predictions = model.predict(x_test)"
      ],
      "metadata": {
        "colab": {
          "base_uri": "https://localhost:8080/"
        },
        "id": "khkezcT6YJF0",
        "outputId": "8ffea330-fcb0-4861-992d-020551356ecb"
      },
      "execution_count": null,
      "outputs": [
        {
          "output_type": "stream",
          "name": "stdout",
          "text": [
            "313/313 [==============================] - 0s 1ms/step\n"
          ]
        }
      ]
    },
    {
      "cell_type": "code",
      "source": [
        "# Calculate accuracy\n",
        "accuracy = accuracy_score(Y_tesr,predictions )\n",
        "print('Accuracy on testing dataset:', accuracy)\n"
      ],
      "metadata": {
        "id": "3EN_vC9BYgWj"
      },
      "execution_count": null,
      "outputs": []
    },
    {
      "cell_type": "code",
      "execution_count": null,
      "metadata": {
        "colab": {
          "base_uri": "https://localhost:8080/",
          "height": 442
        },
        "id": "iHkAOFmf0Z3T",
        "outputId": "1dd3743a-7201-4827-d438-c97e9ad589db"
      },
      "outputs": [
        {
          "output_type": "error",
          "ename": "ValueError",
          "evalue": "ignored",
          "traceback": [
            "\u001b[0;31m---------------------------------------------------------------------------\u001b[0m",
            "\u001b[0;31mValueError\u001b[0m                                Traceback (most recent call last)",
            "\u001b[0;32m<ipython-input-22-72c6543d7643>\u001b[0m in \u001b[0;36m<cell line: 4>\u001b[0;34m()\u001b[0m\n\u001b[1;32m      2\u001b[0m \u001b[0;32mfrom\u001b[0m \u001b[0msklearn\u001b[0m\u001b[0;34m.\u001b[0m\u001b[0mmetrics\u001b[0m \u001b[0;32mimport\u001b[0m \u001b[0mconfusion_matrix\u001b[0m\u001b[0;34m\u001b[0m\u001b[0;34m\u001b[0m\u001b[0m\n\u001b[1;32m      3\u001b[0m \u001b[0;32mfrom\u001b[0m \u001b[0msklearn\u001b[0m\u001b[0;34m.\u001b[0m\u001b[0mmetrics\u001b[0m \u001b[0;32mimport\u001b[0m \u001b[0mclassification_report\u001b[0m\u001b[0;34m,\u001b[0m \u001b[0mconfusion_matrix\u001b[0m\u001b[0;34m\u001b[0m\u001b[0;34m\u001b[0m\u001b[0m\n\u001b[0;32m----> 4\u001b[0;31m \u001b[0mcm\u001b[0m \u001b[0;34m=\u001b[0m \u001b[0mconfusion_matrix\u001b[0m\u001b[0;34m(\u001b[0m\u001b[0mY_tesr\u001b[0m\u001b[0;34m,\u001b[0m \u001b[0mpreds\u001b[0m\u001b[0;34m)\u001b[0m\u001b[0;34m\u001b[0m\u001b[0;34m\u001b[0m\u001b[0m\n\u001b[0m\u001b[1;32m      5\u001b[0m \u001b[0;34m\u001b[0m\u001b[0m\n\u001b[1;32m      6\u001b[0m \u001b[0;31m# Display the confusion matrix\u001b[0m\u001b[0;34m\u001b[0m\u001b[0;34m\u001b[0m\u001b[0m\n",
            "\u001b[0;32m/usr/local/lib/python3.10/dist-packages/sklearn/metrics/_classification.py\u001b[0m in \u001b[0;36mconfusion_matrix\u001b[0;34m(y_true, y_pred, labels, sample_weight, normalize)\u001b[0m\n\u001b[1;32m    315\u001b[0m     \u001b[0;34m(\u001b[0m\u001b[0;36m0\u001b[0m\u001b[0;34m,\u001b[0m \u001b[0;36m2\u001b[0m\u001b[0;34m,\u001b[0m \u001b[0;36m1\u001b[0m\u001b[0;34m,\u001b[0m \u001b[0;36m1\u001b[0m\u001b[0;34m)\u001b[0m\u001b[0;34m\u001b[0m\u001b[0;34m\u001b[0m\u001b[0m\n\u001b[1;32m    316\u001b[0m     \"\"\"\n\u001b[0;32m--> 317\u001b[0;31m     \u001b[0my_type\u001b[0m\u001b[0;34m,\u001b[0m \u001b[0my_true\u001b[0m\u001b[0;34m,\u001b[0m \u001b[0my_pred\u001b[0m \u001b[0;34m=\u001b[0m \u001b[0m_check_targets\u001b[0m\u001b[0;34m(\u001b[0m\u001b[0my_true\u001b[0m\u001b[0;34m,\u001b[0m \u001b[0my_pred\u001b[0m\u001b[0;34m)\u001b[0m\u001b[0;34m\u001b[0m\u001b[0;34m\u001b[0m\u001b[0m\n\u001b[0m\u001b[1;32m    318\u001b[0m     \u001b[0;32mif\u001b[0m \u001b[0my_type\u001b[0m \u001b[0;32mnot\u001b[0m \u001b[0;32min\u001b[0m \u001b[0;34m(\u001b[0m\u001b[0;34m\"binary\"\u001b[0m\u001b[0;34m,\u001b[0m \u001b[0;34m\"multiclass\"\u001b[0m\u001b[0;34m)\u001b[0m\u001b[0;34m:\u001b[0m\u001b[0;34m\u001b[0m\u001b[0;34m\u001b[0m\u001b[0m\n\u001b[1;32m    319\u001b[0m         \u001b[0;32mraise\u001b[0m \u001b[0mValueError\u001b[0m\u001b[0;34m(\u001b[0m\u001b[0;34m\"%s is not supported\"\u001b[0m \u001b[0;34m%\u001b[0m \u001b[0my_type\u001b[0m\u001b[0;34m)\u001b[0m\u001b[0;34m\u001b[0m\u001b[0;34m\u001b[0m\u001b[0m\n",
            "\u001b[0;32m/usr/local/lib/python3.10/dist-packages/sklearn/metrics/_classification.py\u001b[0m in \u001b[0;36m_check_targets\u001b[0;34m(y_true, y_pred)\u001b[0m\n\u001b[1;32m     93\u001b[0m \u001b[0;34m\u001b[0m\u001b[0m\n\u001b[1;32m     94\u001b[0m     \u001b[0;32mif\u001b[0m \u001b[0mlen\u001b[0m\u001b[0;34m(\u001b[0m\u001b[0my_type\u001b[0m\u001b[0;34m)\u001b[0m \u001b[0;34m>\u001b[0m \u001b[0;36m1\u001b[0m\u001b[0;34m:\u001b[0m\u001b[0;34m\u001b[0m\u001b[0;34m\u001b[0m\u001b[0m\n\u001b[0;32m---> 95\u001b[0;31m         raise ValueError(\n\u001b[0m\u001b[1;32m     96\u001b[0m             \"Classification metrics can't handle a mix of {0} and {1} targets\".format(\n\u001b[1;32m     97\u001b[0m                 \u001b[0mtype_true\u001b[0m\u001b[0;34m,\u001b[0m \u001b[0mtype_pred\u001b[0m\u001b[0;34m\u001b[0m\u001b[0;34m\u001b[0m\u001b[0m\n",
            "\u001b[0;31mValueError\u001b[0m: Classification metrics can't handle a mix of multiclass and multilabel-indicator targets"
          ]
        }
      ],
      "source": [
        "import seaborn as sns\n",
        "from sklearn.metrics import confusion_matrix\n",
        "from sklearn.metrics import classification_report, confusion_matrix\n",
        "cm = confusion_matrix(Y_tesr, preds)\n",
        "\n",
        "# Display the confusion matrix\n",
        "print(\"Confusion Matrix:\")\n",
        "print(cm)\n",
        "\n",
        "# Plot the confusion matrix using seaborn and matplotlib\n",
        "plt.figure(figsize=(8, 6))\n",
        "sns.heatmap(cm, annot=True, fmt=\"d\", cmap=\"Blues\", cbar=False,\n",
        "            xticklabels=np.unique(Y_tesr),\n",
        "            yticklabels=np.unique(preds))\n",
        "plt.title(\"Confusion Matrix\")\n",
        "plt.xlabel(\"Predicted\")\n",
        "plt.ylabel(\"True\")\n",
        "plt.show()\n"
      ]
    }
  ],
  "metadata": {
    "colab": {
      "provenance": []
    },
    "kernelspec": {
      "display_name": "Python 3",
      "name": "python3"
    },
    "language_info": {
      "name": "python"
    }
  },
  "nbformat": 4,
  "nbformat_minor": 0
}